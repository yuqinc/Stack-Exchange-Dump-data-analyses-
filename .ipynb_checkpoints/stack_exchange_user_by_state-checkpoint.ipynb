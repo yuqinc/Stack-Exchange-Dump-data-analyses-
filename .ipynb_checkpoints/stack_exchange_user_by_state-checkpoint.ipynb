{
 "cells": [
  {
   "cell_type": "markdown",
   "metadata": {},
   "source": [
    "# Get the USA locations of users in Stack Exchange Data Dump by 2013\n",
    "# Stack Exchange, Inc., and plot by states\n",
    "\n",
    "## https://archive.org/details/stackexchange\n"
   ]
  },
  {
   "cell_type": "code",
   "execution_count": 10,
   "metadata": {
    "collapsed": false
   },
   "outputs": [],
   "source": [
    "import re\n",
    "import os\n",
    "import sys, getopt\n",
    "import pandas as pd\n",
    "import numpy as np\n",
    "import matplotlib.pyplot as plt\n",
    "from itertools import groupby"
   ]
  },
  {
   "cell_type": "markdown",
   "metadata": {},
   "source": [
    "## STEP1, get the location"
   ]
  },
  {
   "cell_type": "code",
   "execution_count": 11,
   "metadata": {
    "collapsed": true
   },
   "outputs": [],
   "source": [
    "text_file=open(\"./location.out\",\"a\")\n",
    "with open(\"./Users.xml\") as f:\n",
    "    for line in f:\n",
    "        result =re.search('Location=(.+?)AboutMe=',line) # grep all contents between strings\n",
    "        if result:\n",
    "            found =result.group(1)\n",
    "            text_file.write(\"%s\\n\" %found.replace('\\\"','')) #get rid of double quotes\n",
    "text_file.close()\n",
    "#this location output file will be used for both USA and world programmer geographic distribution analyses"
   ]
  },
  {
   "cell_type": "markdown",
   "metadata": {},
   "source": [
    "## STEP2, check if it is a USA state "
   ]
  },
  {
   "cell_type": "code",
   "execution_count": 12,
   "metadata": {
    "collapsed": false
   },
   "outputs": [],
   "source": [
    "states = (\"AL\", \"AK\", \"AZ\", \"AR\", \"CA\", \"CO\", \"CT\", \"DC\", \"DE\", \"FL\", \"GA\",\n",
    "          \"HI\", \"ID\", \"IL\", \"IN\", \"IA\", \"KS\", \"KY\", \"LA\", \"ME\", \"MD\",\n",
    "          \"MA\", \"MI\", \"MN\", \"MS\", \"MO\", \"MT\", \"NE\", \"NV\", \"NH\", \"NJ\",\n",
    "          \"NM\", \"NY\", \"NC\", \"ND\", \"OH\", \"OK\", \"OR\", \"PA\", \"RI\", \"SC\",\n",
    "          \"SD\", \"TN\", \"TX\", \"UT\", \"VT\", \"VA\", \"WA\", \"WV\", \"WI\", \"WY\")\n",
    "#text_file=open(\"../data/usa_location.out\",\"a\")\n",
    "states_count=list()\n",
    "with open(\"./location.out\") as f:\n",
    "    for line in f:\n",
    "        #if any(s in line for s in states):\n",
    "        for state in states:\n",
    "            if state in line: \n",
    "                #print state\n",
    "                #print line\n",
    "                #text_file.write('{0}'.format(line)) \n",
    "                states_count.append(state)"
   ]
  },
  {
   "cell_type": "markdown",
   "metadata": {},
   "source": [
    "## STEP3, sort the list "
   ]
  },
  {
   "cell_type": "code",
   "execution_count": 13,
   "metadata": {
    "collapsed": false
   },
   "outputs": [
    {
     "data": {
      "text/plain": [
       "51"
      ]
     },
     "execution_count": 13,
     "metadata": {},
     "output_type": "execute_result"
    }
   ],
   "source": [
    "states_count.sort()\n",
    "##sorted(states)\n",
    "##count frequency of each elements in a list \n",
    "freq=[len(list(group)) for key, group in groupby(states_count)]\n",
    "len(freq)"
   ]
  },
  {
   "cell_type": "markdown",
   "metadata": {},
   "source": [
    "## STEP4, dataframe for analysis"
   ]
  },
  {
   "cell_type": "code",
   "execution_count": 14,
   "metadata": {
    "collapsed": true
   },
   "outputs": [],
   "source": [
    "data=zip(states,freq)\n",
    "#dataframe a tuple\n",
    "df = pd.DataFrame(data, columns=['state','user_numbers'])\n",
    "\n",
    "#output dataframes to a file for Choropleths \n",
    "df.to_csv('usa_programmer_counts.out', sep='\\t')"
   ]
  },
  {
   "cell_type": "markdown",
   "metadata": {},
   "source": [
    "## STEP5, plot results"
   ]
  },
  {
   "cell_type": "code",
   "execution_count": 28,
   "metadata": {
    "collapsed": false
   },
   "outputs": [
    {
     "data": {
      "text/plain": [
       "<matplotlib.text.Text at 0x113c752d0>"
      ]
     },
     "execution_count": 28,
     "metadata": {},
     "output_type": "execute_result"
    },
    {
     "data": {
      "image/png": "[encoded data removed]",
      "text/plain": [
       "<matplotlib.figure.Figure at 0x113c24a90>"
      ]
     },
     "metadata": {},
     "output_type": "display_data"
    }
   ],
   "source": [
    "df1=df.sort([\"user_numbers\",\"state\"],ascending=[0, 0])\n",
    "fig=plt.figure()\n",
    "ax =fig.add_subplot(111)\n",
    "fig.subplots_adjust(bottom=0.15)\n",
    "\n",
    "x=df1.state\n",
    "y=df1.user_numbers\n",
    "\n",
    "index =np.arange(51)\n",
    "bar_width= 0.35\n",
    "plt.bar(index,y,bar_width,color='orange')\n",
    "plt.xlim(0,52)\n",
    "plt.xticks(index + bar_width, x.tolist(),rotation=0,fontsize= 8, weight='bold')\n",
    "plt.ylabel('States',fontsize= 14, weight='bold')\n",
    "plt.ylabel('Programmer numbers',fontsize= 14, weight='bold')\n",
    "plt.title(\"geographic distribution of stackoverflow programmers\",fontsize= 20, weight='bold')\n",
    "#plt.show()"
   ]
  },
  {
   "cell_type": "code",
   "execution_count": 27,
   "metadata": {
    "collapsed": false
   },
   "outputs": [
    {
     "data": {
      "text/html": [
       "<img src=\"./figure_1.png\" width=\"1200\"/>"
      ],
      "text/plain": [
       "<IPython.core.display.Image object>"
      ]
     },
     "execution_count": 27,
     "metadata": {},
     "output_type": "execute_result"
    }
   ],
   "source": [
    "from IPython.display import Image\n",
    "from IPython.core.display import HTML \n",
    "Image(url= \"./figure_1.png\",width=1200 )"
   ]
  },
  {
   "cell_type": "code",
   "execution_count": null,
   "metadata": {
    "collapsed": true
   },
   "outputs": [],
   "source": []
  }
 ],
 "metadata": {
  "kernelspec": {
   "display_name": "Python 2",
   "language": "python",
   "name": "python2"
  },
  "language_info": {
   "codemirror_mode": {
    "name": "ipython",
    "version": 2
   },
   "file_extension": ".py",
   "mimetype": "text/x-python",
   "name": "python",
   "nbconvert_exporter": "python",
   "pygments_lexer": "ipython2",
   "version": "2.7.10"
  }
 },
 "nbformat": 4,
 "nbformat_minor": 0
}
